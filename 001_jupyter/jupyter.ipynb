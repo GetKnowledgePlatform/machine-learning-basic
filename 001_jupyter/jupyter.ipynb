{
 "cells": [
  {
   "cell_type": "code",
   "execution_count": 3,
   "id": "17bd6d29",
   "metadata": {},
   "outputs": [],
   "source": [
    "import random\n",
    "import math"
   ]
  },
  {
   "cell_type": "code",
   "execution_count": 4,
   "id": "10050d5f",
   "metadata": {},
   "outputs": [
    {
     "name": "stdout",
     "output_type": "stream",
     "text": [
      "83 37.11872842649651\n"
     ]
    }
   ],
   "source": [
    "a = random.randint(0, 100)\n",
    "b = a / math.sqrt(5)\n",
    "\n",
    "print(a, b)"
   ]
  },
  {
   "cell_type": "code",
   "execution_count": 5,
   "id": "3c46f5c7",
   "metadata": {},
   "outputs": [
    {
     "data": {
      "text/plain": [
       "83"
      ]
     },
     "execution_count": 5,
     "metadata": {},
     "output_type": "execute_result"
    }
   ],
   "source": [
    "a"
   ]
  },
  {
   "cell_type": "code",
   "execution_count": 17,
   "id": "526b398c",
   "metadata": {},
   "outputs": [],
   "source": [
    "random.randint?"
   ]
  },
  {
   "cell_type": "markdown",
   "id": "f1025b6f",
   "metadata": {},
   "source": [
    "Text test example"
   ]
  },
  {
   "cell_type": "markdown",
   "id": "883ecf29",
   "metadata": {},
   "source": [
    "# Hello"
   ]
  },
  {
   "cell_type": "markdown",
   "id": "3be249fa",
   "metadata": {},
   "source": [
    "Test **bold**"
   ]
  },
  {
   "cell_type": "markdown",
   "id": "2b5d0ef0",
   "metadata": {},
   "source": [
    "- 1\n",
    "- 2\n",
    "- 3"
   ]
  },
  {
   "cell_type": "markdown",
   "id": "70f2e7e4",
   "metadata": {},
   "source": [
    "$$\n",
    "D = b^2 - 4ac\n",
    "$$"
   ]
  },
  {
   "cell_type": "markdown",
   "id": "da6d02c8",
   "metadata": {},
   "source": [
    "$$\n",
    "x_1 = \\frac{b - \\sqrt{D}}{2a}\n",
    "$$"
   ]
  },
  {
   "cell_type": "code",
   "execution_count": 10,
   "id": "e1e6b9d9",
   "metadata": {},
   "outputs": [
    {
     "name": "stdout",
     "output_type": "stream",
     "text": [
      "44.9 ms ± 1.28 ms per loop (mean ± std. dev. of 7 runs, 10 loops each)\n"
     ]
    }
   ],
   "source": [
    "%%timeit\n",
    "a = 0\n",
    "for i in range(1, 1_000_000):\n",
    "    a += i"
   ]
  },
  {
   "cell_type": "code",
   "execution_count": 12,
   "id": "7ba31b51",
   "metadata": {},
   "outputs": [
    {
     "data": {
      "text/plain": [
       "499999500000"
      ]
     },
     "execution_count": 12,
     "metadata": {},
     "output_type": "execute_result"
    }
   ],
   "source": [
    "a"
   ]
  },
  {
   "cell_type": "code",
   "execution_count": 13,
   "id": "f443e0bc",
   "metadata": {},
   "outputs": [
    {
     "name": "stdout",
     "output_type": "stream",
     "text": [
      "/Users/denismarkov/Documents/Projects/courses/machine-learning-basic/001_jupyter\r\n"
     ]
    }
   ],
   "source": [
    "!pwd"
   ]
  },
  {
   "cell_type": "code",
   "execution_count": 14,
   "id": "4427700c",
   "metadata": {},
   "outputs": [
    {
     "name": "stdout",
     "output_type": "stream",
     "text": [
      "total 224\r\n",
      "drwxr-xr-x  6 denismarkov  staff     192 Dec 16 19:36 \u001b[34m.\u001b[m\u001b[m\r\n",
      "drwxr-xr-x  8 denismarkov  staff     256 Dec 15 22:34 \u001b[34m..\u001b[m\u001b[m\r\n",
      "drwxr-xr-x  5 denismarkov  staff     160 Dec 16 19:26 \u001b[34m.ipynb_checkpoints\u001b[m\u001b[m\r\n",
      "-rw-r--r--@ 1 denismarkov  staff  101318 Dec 16 19:26 04_00_Introduction_To_Matplotlib.ipynb\r\n",
      "-rw-r--r--  1 denismarkov  staff    2944 Dec 16 19:36 jupyter.ipynb\r\n",
      "-rw-r--r--  1 denismarkov  staff    5254 Dec 15 22:44 latex_basic.ipynb\r\n"
     ]
    }
   ],
   "source": [
    "!ls -all"
   ]
  }
 ],
 "metadata": {
  "kernelspec": {
   "display_name": "Python 3 (ipykernel)",
   "language": "python",
   "name": "python3"
  },
  "language_info": {
   "codemirror_mode": {
    "name": "ipython",
    "version": 3
   },
   "file_extension": ".py",
   "mimetype": "text/x-python",
   "name": "python",
   "nbconvert_exporter": "python",
   "pygments_lexer": "ipython3",
   "version": "3.10.8"
  }
 },
 "nbformat": 4,
 "nbformat_minor": 5
}
