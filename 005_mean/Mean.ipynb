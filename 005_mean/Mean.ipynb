{
 "cells": [
  {
   "cell_type": "markdown",
   "id": "d3e91151",
   "metadata": {},
   "source": [
    "# Mean\n",
    "![](./mean.png)"
   ]
  },
  {
   "cell_type": "code",
   "execution_count": 52,
   "id": "46416da6",
   "metadata": {},
   "outputs": [],
   "source": [
    "%matplotlib inline\n",
    "import numpy as np\n",
    "import matplotlib.pyplot as plt\n",
    "from scipy import stats"
   ]
  },
  {
   "cell_type": "code",
   "execution_count": 53,
   "id": "1fbbc23b",
   "metadata": {},
   "outputs": [],
   "source": [
    "incomes = np.random.normal(27000, 15000, 10000)"
   ]
  },
  {
   "cell_type": "code",
   "execution_count": 54,
   "id": "f0222b7e",
   "metadata": {},
   "outputs": [
    {
     "data": {
      "text/plain": [
       "(10000,)"
      ]
     },
     "execution_count": 54,
     "metadata": {},
     "output_type": "execute_result"
    }
   ],
   "source": [
    "incomes.shape"
   ]
  },
  {
   "cell_type": "code",
   "execution_count": 55,
   "id": "3ef8a56d",
   "metadata": {},
   "outputs": [
    {
     "data": {
      "text/plain": [
       "array([19414.49454996,  6823.90898688, 54238.29326498, ...,\n",
       "       28592.57449005, 26955.5137317 , 33208.34170478])"
      ]
     },
     "execution_count": 55,
     "metadata": {},
     "output_type": "execute_result"
    }
   ],
   "source": [
    "incomes"
   ]
  },
  {
   "cell_type": "code",
   "execution_count": 56,
   "id": "6f32b8d8",
   "metadata": {},
   "outputs": [
    {
     "data": {
      "text/plain": [
       "27059.306816384138"
      ]
     },
     "execution_count": 56,
     "metadata": {},
     "output_type": "execute_result"
    }
   ],
   "source": [
    "np.mean(incomes)"
   ]
  },
  {
   "cell_type": "code",
   "execution_count": 60,
   "id": "761f13b5",
   "metadata": {},
   "outputs": [
    {
     "data": {
      "image/png": "[encoded data removed]",
      "text/plain": [
       "<Figure size 640x480 with 1 Axes>"
      ]
     },
     "metadata": {},
     "output_type": "display_data"
    }
   ],
   "source": [
    "plt.hist(incomes, bins=50)\n",
    "plt.show()"
   ]
  },
  {
   "cell_type": "markdown",
   "id": "411fe6df",
   "metadata": {},
   "source": [
    "# Median\n",
    "![](./median.webp)"
   ]
  },
  {
   "cell_type": "code",
   "execution_count": 61,
   "id": "082d13c0",
   "metadata": {},
   "outputs": [
    {
     "data": {
      "text/plain": [
       "27023.810494187157"
      ]
     },
     "execution_count": 61,
     "metadata": {},
     "output_type": "execute_result"
    }
   ],
   "source": [
    "np.median(incomes)"
   ]
  },
  {
   "cell_type": "code",
   "execution_count": 62,
   "id": "8d1f5f54",
   "metadata": {},
   "outputs": [
    {
     "name": "stdout",
     "output_type": "stream",
     "text": [
      "Mean: 27059.306816384138 Median:  27023.810494187157\n"
     ]
    }
   ],
   "source": [
    "print('Mean:', np.mean(incomes), 'Median: ', np.median(incomes))"
   ]
  },
  {
   "cell_type": "code",
   "execution_count": 63,
   "id": "35c06c61",
   "metadata": {},
   "outputs": [],
   "source": [
    "incomes = np.append(incomes, [1_000_000_000])"
   ]
  },
  {
   "cell_type": "code",
   "execution_count": 64,
   "id": "3115efcf",
   "metadata": {},
   "outputs": [
    {
     "name": "stdout",
     "output_type": "stream",
     "text": [
      "Mean: 127046.6021561685 Median:  27024.78639117179\n"
     ]
    }
   ],
   "source": [
    "print('Mean:', np.mean(incomes), 'Median: ', np.median(incomes))"
   ]
  },
  {
   "cell_type": "markdown",
   "id": "a80658ba",
   "metadata": {},
   "source": [
    "![](./mediana_02.png)"
   ]
  },
  {
   "cell_type": "markdown",
   "id": "d4c1137d",
   "metadata": {},
   "source": [
    "# Mode"
   ]
  },
  {
   "cell_type": "code",
   "execution_count": 65,
   "id": "67326fc7",
   "metadata": {},
   "outputs": [
    {
     "data": {
      "text/plain": [
       "array([ 8, 15, 33, 51, 65,  6, 29, 65, 30, 78, 37, 80, 66, 71, 55, 18, 22,\n",
       "       57,  2, 16, 76, 91,  3, 21, 69, 42, 14,  6, 82, 43, 65, 10,  2,  4,\n",
       "       25, 27, 70, 21, 43, 86, 22, 27, 40,  6, 49, 55, 46,  4, 63, 11, 67,\n",
       "       67, 66, 42, 89, 84, 34, 25,  2, 50, 31, 26, 49, 20, 81, 41, 27, 15,\n",
       "       49, 95, 74, 28, 86, 20, 39, 28, 63, 72, 39,  7, 52, 29, 52, 42, 81,\n",
       "       68, 51, 18, 60, 22, 29, 78, 89, 51, 71, 88, 25, 19, 90, 91, 93, 41,\n",
       "       63, 81, 35, 23, 40,  0, 73, 95, 33, 25,  0, 69, 69, 65, 25, 24, 96,\n",
       "       45, 80, 52, 29, 85, 60, 89, 14, 51, 16, 67, 95, 36, 40, 35, 48, 28,\n",
       "       88, 38, 31, 11, 43, 15, 19, 37, 50, 25,  1, 30, 66, 55, 94, 91, 21,\n",
       "       75, 39, 61, 71, 95, 63, 59, 61,  0, 55, 68, 22, 32, 26,  3, 54, 37,\n",
       "       79, 66, 34, 38,  2, 95,  8, 85, 28, 51, 51, 80, 65, 87, 81, 26, 15,\n",
       "       86, 54, 22, 96, 98, 14, 96, 59, 18, 17, 65,  4, 69, 72, 24, 13, 17,\n",
       "       38, 77, 95, 31, 57, 43, 89, 22, 53, 27, 32, 66, 22, 10, 80, 76, 42,\n",
       "       34, 89, 74, 42, 41, 64, 65, 50, 32, 73, 88, 53, 33, 22, 83, 77, 19,\n",
       "       41, 75, 89, 41, 41, 23, 47, 33,  1, 80,  7, 19, 54, 19, 72, 11, 18,\n",
       "       33, 18, 75, 60, 77, 78, 29, 44, 68, 90, 75, 82, 65, 21, 62, 88, 20,\n",
       "       27, 51, 22, 82, 65, 26, 15, 36, 36, 73, 60, 27, 39, 17, 42, 24, 88,\n",
       "       38, 61, 44, 23, 91, 75, 68, 61, 71, 90,  3, 67, 68, 52, 85, 27, 27,\n",
       "        0, 41, 92, 64, 42,  9,  7, 44, 84, 19,  8, 76, 44, 50, 24, 48, 21,\n",
       "       30, 55, 52, 76, 74,  5, 98, 98, 95, 53, 45, 75, 14, 68, 22, 98, 66,\n",
       "       27, 16,  2, 31, 38, 74, 56, 97,  0, 11, 21, 97, 37, 20,  7, 78, 86,\n",
       "        5, 74, 92, 41, 71, 28, 70, 66, 54, 77, 63, 18, 43, 40, 26, 49, 44,\n",
       "       60, 47, 24, 63, 35, 50, 33, 30, 85, 48, 73, 31,  6, 44, 34,  9, 40,\n",
       "       42, 37, 82, 44, 55, 26, 76, 14, 78, 52, 66, 96, 49, 63, 15, 16, 64,\n",
       "       78, 38, 24, 29, 10, 70, 77, 75, 16, 49, 38, 90, 50, 29, 81, 72, 88,\n",
       "       72, 45, 37, 40,  9, 76, 87, 94, 96, 88, 58, 66, 83, 95,  1,  1, 43,\n",
       "       22, 95, 23, 52, 77, 38, 39, 40, 75, 41, 90, 72, 36, 29, 28,  9, 88,\n",
       "       54, 36, 77, 17, 31, 47, 57, 40, 31, 70, 88,  5, 87, 80, 37, 89,  6,\n",
       "       44, 70, 24, 64, 19,  4, 75, 20, 62, 19,  6, 66, 47, 51, 20, 95,  9,\n",
       "       49, 91, 23, 41, 24, 81, 82])"
      ]
     },
     "execution_count": 65,
     "metadata": {},
     "output_type": "execute_result"
    }
   ],
   "source": [
    "ages = np.random.randint(0, 99, size=500)\n",
    "ages"
   ]
  },
  {
   "cell_type": "code",
   "execution_count": 66,
   "id": "bd7d58a3",
   "metadata": {},
   "outputs": [
    {
     "name": "stderr",
     "output_type": "stream",
     "text": [
      "/var/folders/9z/x5x5vgm95yjdl24m0nzx8m5w0000gn/T/ipykernel_44748/455133767.py:1: FutureWarning: Unlike other reduction functions (e.g. `skew`, `kurtosis`), the default behavior of `mode` typically preserves the axis it acts along. In SciPy 1.11.0, this behavior will change: the default value of `keepdims` will become False, the `axis` over which the statistic is taken will be eliminated, and the value None will no longer be accepted. Set `keepdims` to True or False to avoid this warning.\n",
      "  stats.mode(ages)\n"
     ]
    },
    {
     "data": {
      "text/plain": [
       "ModeResult(mode=array([22]), count=array([11]))"
      ]
     },
     "execution_count": 66,
     "metadata": {},
     "output_type": "execute_result"
    }
   ],
   "source": [
    "stats.mode(ages)"
   ]
  },
  {
   "cell_type": "markdown",
   "id": "dc046857",
   "metadata": {},
   "source": [
    "# Variance - Дисперсия\n",
    "\n",
    "$$\n",
    "\\sigma^2 = \\frac{\\sum{(x_i-\\mu)^2}}{n}\n",
    "$$"
   ]
  },
  {
   "cell_type": "code",
   "execution_count": 67,
   "id": "da9c3183",
   "metadata": {},
   "outputs": [
    {
     "data": {
      "image/png": "[encoded data removed]",
      "text/plain": [
       "<Figure size 640x480 with 1 Axes>"
      ]
     },
     "metadata": {},
     "output_type": "display_data"
    }
   ],
   "source": [
    "incomes = np.random.normal(100.0, 50.0, 10000)\n",
    "\n",
    "plt.hist(incomes, 50)\n",
    "plt.show()"
   ]
  },
  {
   "cell_type": "code",
   "execution_count": 69,
   "id": "e3f61339",
   "metadata": {},
   "outputs": [
    {
     "data": {
      "text/plain": [
       "2502.3166113331545"
      ]
     },
     "execution_count": 69,
     "metadata": {},
     "output_type": "execute_result"
    }
   ],
   "source": [
    "incomes.var()"
   ]
  },
  {
   "cell_type": "markdown",
   "id": "4238726c",
   "metadata": {},
   "source": [
    "# Standard deviation / Стандартное отклонение"
   ]
  },
  {
   "cell_type": "markdown",
   "id": "c266f82b",
   "metadata": {},
   "source": [
    "![](./standard_deviation.jpeg)"
   ]
  },
  {
   "cell_type": "code",
   "execution_count": 70,
   "id": "72b81197",
   "metadata": {},
   "outputs": [
    {
     "data": {
      "text/plain": [
       "50.02316074912854"
      ]
     },
     "execution_count": 70,
     "metadata": {},
     "output_type": "execute_result"
    }
   ],
   "source": [
    "incomes.std()"
   ]
  },
  {
   "cell_type": "code",
   "execution_count": null,
   "id": "04693b00",
   "metadata": {},
   "outputs": [],
   "source": []
  }
 ],
 "metadata": {
  "kernelspec": {
   "display_name": "Python 3 (ipykernel)",
   "language": "python",
   "name": "python3"
  },
  "language_info": {
   "codemirror_mode": {
    "name": "ipython",
    "version": 3
   },
   "file_extension": ".py",
   "mimetype": "text/x-python",
   "name": "python",
   "nbconvert_exporter": "python",
   "pygments_lexer": "ipython3",
   "version": "3.10.8"
  }
 },
 "nbformat": 4,
 "nbformat_minor": 5
}
