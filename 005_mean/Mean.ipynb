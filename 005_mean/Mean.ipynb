{
 "cells": [
  {
   "cell_type": "markdown",
   "id": "4c00180b",
   "metadata": {},
   "source": [
    "# Mean\n",
    "![](./mean.png)"
   ]
  },
  {
   "cell_type": "code",
   "execution_count": 3,
   "id": "571a93b3",
   "metadata": {},
   "outputs": [],
   "source": [
    "%matplotlib inline\n",
    "import numpy as np\n",
    "import matplotlib.pyplot as plt\n",
    "from scipy import stats"
   ]
  },
  {
   "cell_type": "code",
   "execution_count": 20,
   "id": "56ad387d",
   "metadata": {},
   "outputs": [],
   "source": [
    "incomes = np.random.normal(27000, 15000, 10000)"
   ]
  },
  {
   "cell_type": "code",
   "execution_count": 21,
   "id": "958da788",
   "metadata": {},
   "outputs": [
    {
     "data": {
      "text/plain": [
       "(10000,)"
      ]
     },
     "execution_count": 21,
     "metadata": {},
     "output_type": "execute_result"
    }
   ],
   "source": [
    "incomes.shape"
   ]
  },
  {
   "cell_type": "code",
   "execution_count": 22,
   "id": "ff6ad416",
   "metadata": {},
   "outputs": [
    {
     "data": {
      "text/plain": [
       "26837.22734953251"
      ]
     },
     "execution_count": 22,
     "metadata": {},
     "output_type": "execute_result"
    }
   ],
   "source": [
    "np.mean(incomes)"
   ]
  },
  {
   "cell_type": "code",
   "execution_count": 23,
   "id": "8b86ef47",
   "metadata": {},
   "outputs": [
    {
     "data": {
      "image/png": "[encoded data removed]",
      "text/plain": [
       "<Figure size 640x480 with 1 Axes>"
      ]
     },
     "metadata": {},
     "output_type": "display_data"
    }
   ],
   "source": [
    "plt.hist(incomes, 50)\n",
    "plt.show()"
   ]
  },
  {
   "cell_type": "markdown",
   "id": "ea04ba63",
   "metadata": {},
   "source": [
    "# Median\n",
    "![](./median.webp)"
   ]
  },
  {
   "cell_type": "code",
   "execution_count": 24,
   "id": "45f3093f",
   "metadata": {},
   "outputs": [
    {
     "data": {
      "text/plain": [
       "26864.166581080415"
      ]
     },
     "execution_count": 24,
     "metadata": {},
     "output_type": "execute_result"
    }
   ],
   "source": [
    "np.median(incomes)"
   ]
  },
  {
   "cell_type": "code",
   "execution_count": 25,
   "id": "3121e610",
   "metadata": {},
   "outputs": [
    {
     "name": "stdout",
     "output_type": "stream",
     "text": [
      "Mean: 26837.22734953251 Median:  26864.166581080415\n"
     ]
    }
   ],
   "source": [
    "print('Mean:', np.mean(incomes), 'Median: ', np.median(incomes))"
   ]
  },
  {
   "cell_type": "code",
   "execution_count": 26,
   "id": "92071150",
   "metadata": {},
   "outputs": [],
   "source": [
    "incomes = np.append(incomes, [1_000_000_000])"
   ]
  },
  {
   "cell_type": "code",
   "execution_count": 27,
   "id": "a6f07c24",
   "metadata": {},
   "outputs": [
    {
     "name": "stdout",
     "output_type": "stream",
     "text": [
      "Mean: 126824.544895043 Median:  26865.759491542005\n"
     ]
    }
   ],
   "source": [
    "print('Mean:', np.mean(incomes), 'Median: ', np.median(incomes))"
   ]
  },
  {
   "cell_type": "markdown",
   "id": "16e3fcc8",
   "metadata": {},
   "source": [
    "![](./mediana_02.png)"
   ]
  },
  {
   "cell_type": "markdown",
   "id": "92a07021",
   "metadata": {},
   "source": [
    "# Mode"
   ]
  },
  {
   "cell_type": "code",
   "execution_count": 31,
   "id": "116bea9b",
   "metadata": {},
   "outputs": [
    {
     "data": {
      "text/plain": [
       "array([73, 39,  7, 37, 73, 26, 28,  6, 38, 42, 41, 97, 55, 46, 78, 24, 50,\n",
       "       69, 49, 81, 26, 54,  6, 66, 67, 62,  9, 79, 60, 41, 88,  2,  7, 95,\n",
       "       73, 96, 56,  1, 19, 65, 83,  1, 51, 46, 91, 31, 28, 89, 38, 88, 73,\n",
       "       96, 98, 50,  3, 37, 80, 81, 38, 59, 84,  7, 80, 22, 77, 94, 94, 34,\n",
       "       70, 10, 91, 82, 75, 56, 59, 13, 11, 14, 63, 52, 80, 90, 48, 45, 12,\n",
       "       92, 64, 42,  6, 85, 46, 92, 55, 90, 76, 38, 57, 29, 45,  4, 82,  3,\n",
       "       40, 86, 32, 34, 91, 38, 29,  4, 53, 51, 64, 93, 61, 24, 80, 91, 70,\n",
       "       67, 58, 58,  3, 78, 94, 94,  6, 66, 46, 82, 56, 15, 82, 12, 88,  4,\n",
       "       12, 45, 83, 42, 35, 26, 17, 22, 58, 84, 15, 33, 10, 40, 20, 25, 97,\n",
       "        0, 29, 49, 25, 36, 46, 79, 37, 28, 82, 58, 17, 69, 14,  6, 41, 61,\n",
       "       17,  9, 67, 24, 90, 44, 67, 43, 43, 87, 80, 46, 45, 15, 18, 66, 69,\n",
       "       30, 87, 48, 53, 49, 72, 95, 35, 30, 36, 33, 70, 31, 48, 86,  7, 83,\n",
       "       90, 87,  4,  6, 69, 43, 41, 87, 10, 79, 28, 61, 43, 68, 24, 13, 75,\n",
       "        0, 21, 25, 22, 52, 78, 17, 65, 83, 81, 77, 84, 45, 54, 38, 69, 29,\n",
       "       65, 44, 72, 14, 65, 88, 47, 55, 77, 75, 98, 54, 70, 74,  3, 24, 10,\n",
       "       25, 16, 68, 71, 15, 90, 46,  5, 31, 59, 36, 54, 54, 10, 62, 72, 13,\n",
       "       47, 54, 91, 77, 73, 74, 80, 72, 67,  1, 96, 63, 91, 20, 18, 87, 66,\n",
       "       92, 12, 60,  1, 12, 83, 73, 34, 93, 68, 74, 93, 36, 20,  9, 97, 14,\n",
       "       40, 58, 10, 96, 62, 87, 57, 73, 94,  2,  2, 64, 54, 70, 92, 70, 62,\n",
       "       66, 54, 26, 44, 94, 96,  4, 76, 29, 18, 72, 83, 46, 42, 89, 14, 51,\n",
       "        1, 70, 42, 56, 56, 93, 88, 63, 12, 40, 98, 29, 82,  5, 86, 92, 14,\n",
       "       53, 43, 22, 84, 13, 37, 62,  2, 63, 34, 42, 96, 51, 37, 85, 65, 63,\n",
       "       95, 27, 67, 72, 75, 69, 23, 23, 61, 31, 20, 69, 95, 85, 85, 66,  1,\n",
       "       46, 11, 92,  1, 63, 58, 22, 68, 40, 60, 47, 12, 74, 86, 89, 27, 66,\n",
       "       46,  3, 77, 94, 67, 33, 21, 51, 31, 87, 62, 93, 40, 34, 72,  5, 70,\n",
       "       86,  3, 27, 52, 42, 57, 11, 50, 40, 76, 76, 72, 93, 52, 92, 83, 48,\n",
       "       39, 45, 88, 87, 29, 48, 34, 51, 78, 24, 51, 40, 88, 27, 28, 65, 50,\n",
       "       19, 24, 50, 33, 19, 87, 62,  4, 93,  4, 76, 86,  6, 17, 80,  4, 11,\n",
       "       79,  8, 79, 55, 86, 81, 56, 76, 15, 79, 60, 53, 92, 96, 28, 45, 11,\n",
       "       75, 45, 98, 84, 32, 37, 72])"
      ]
     },
     "execution_count": 31,
     "metadata": {},
     "output_type": "execute_result"
    }
   ],
   "source": [
    "ages = np.random.randint(0, 99, size=500)\n",
    "ages"
   ]
  },
  {
   "cell_type": "code",
   "execution_count": 32,
   "id": "295753b5",
   "metadata": {},
   "outputs": [
    {
     "name": "stderr",
     "output_type": "stream",
     "text": [
      "/var/folders/9z/x5x5vgm95yjdl24m0nzx8m5w0000gn/T/ipykernel_44748/455133767.py:1: FutureWarning: Unlike other reduction functions (e.g. `skew`, `kurtosis`), the default behavior of `mode` typically preserves the axis it acts along. In SciPy 1.11.0, this behavior will change: the default value of `keepdims` will become False, the `axis` over which the statistic is taken will be eliminated, and the value None will no longer be accepted. Set `keepdims` to True or False to avoid this warning.\n",
      "  stats.mode(ages)\n"
     ]
    },
    {
     "data": {
      "text/plain": [
       "ModeResult(mode=array([46]), count=array([10]))"
      ]
     },
     "execution_count": 32,
     "metadata": {},
     "output_type": "execute_result"
    }
   ],
   "source": [
    "stats.mode(ages)"
   ]
  },
  {
   "cell_type": "markdown",
   "id": "c2c9cefc",
   "metadata": {},
   "source": [
    "# Variance - Дисперсия\n",
    "\n",
    "$$\n",
    "\\sigma^2 = \\frac{\\sum{(x_i-\\mu)^2}}{n}\n",
    "$$"
   ]
  },
  {
   "cell_type": "code",
   "execution_count": 33,
   "id": "d26d9139",
   "metadata": {},
   "outputs": [
    {
     "data": {
      "image/png": "[encoded data removed]",
      "text/plain": [
       "<Figure size 640x480 with 1 Axes>"
      ]
     },
     "metadata": {},
     "output_type": "display_data"
    }
   ],
   "source": [
    "incomes = np.random.normal(100.0, 50.0, 10000)\n",
    "\n",
    "plt.hist(incomes, 50)\n",
    "plt.show()"
   ]
  },
  {
   "cell_type": "code",
   "execution_count": 34,
   "id": "8dad2394",
   "metadata": {},
   "outputs": [
    {
     "data": {
      "text/plain": [
       "2483.5019563409032"
      ]
     },
     "execution_count": 34,
     "metadata": {},
     "output_type": "execute_result"
    }
   ],
   "source": [
    "incomes.var()"
   ]
  },
  {
   "cell_type": "markdown",
   "id": "3643083a",
   "metadata": {},
   "source": [
    "# Standard deviation / Стандартное отклонение"
   ]
  },
  {
   "cell_type": "markdown",
   "id": "739291d4",
   "metadata": {},
   "source": [
    "![](./standard_deviation.jpeg)"
   ]
  },
  {
   "cell_type": "code",
   "execution_count": 36,
   "id": "30d06604",
   "metadata": {},
   "outputs": [
    {
     "data": {
      "text/plain": [
       "49.834746476137546"
      ]
     },
     "execution_count": 36,
     "metadata": {},
     "output_type": "execute_result"
    }
   ],
   "source": [
    "incomes.std()"
   ]
  }
 ],
 "metadata": {
  "kernelspec": {
   "display_name": "Python 3 (ipykernel)",
   "language": "python",
   "name": "python3"
  },
  "language_info": {
   "codemirror_mode": {
    "name": "ipython",
    "version": 3
   },
   "file_extension": ".py",
   "mimetype": "text/x-python",
   "name": "python",
   "nbconvert_exporter": "python",
   "pygments_lexer": "ipython3",
   "version": "3.10.8"
  }
 },
 "nbformat": 4,
 "nbformat_minor": 5
}
