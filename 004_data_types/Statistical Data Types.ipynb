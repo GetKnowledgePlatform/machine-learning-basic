{
 "cells": [
  {
   "cell_type": "markdown",
   "id": "e1ff44e5",
   "metadata": {},
   "source": [
    "# Numerical data types\n",
    "\n",
    "- Рост человека\n",
    "- Цена акции\n",
    "- Скорость загрузки web-страницы\n",
    "\n",
    "![](./numerical.webp)"
   ]
  },
  {
   "cell_type": "markdown",
   "id": "02eb2b70",
   "metadata": {},
   "source": [
    "## Discrete Data\n",
    "\n",
    "- целые числа\n",
    "- сколько членов семьи\n",
    "- сколько раз вы посещали поликлинику за год"
   ]
  },
  {
   "cell_type": "markdown",
   "id": "8bf3218a",
   "metadata": {},
   "source": [
    " # Continuous Data\n",
    "\n",
    "- Количество осадков выпадщих в месяце\n",
    "- Время проведенное пользователем в приложение"
   ]
  },
  {
   "cell_type": "markdown",
   "id": "537f7bc9",
   "metadata": {},
   "source": [
    "# Categorical\n",
    "\n",
    "- Страны\n",
    "- Должность\n",
    "- Тип вина\n",
    "\n",
    "![](./regions.png)"
   ]
  },
  {
   "cell_type": "markdown",
   "id": "6071f3bf",
   "metadata": {},
   "source": [
    "## Ordinal"
   ]
  },
  {
   "cell_type": "markdown",
   "id": "7b5e5a37",
   "metadata": {},
   "source": [
    "![](./pogony.jpeg)"
   ]
  },
  {
   "cell_type": "markdown",
   "id": "6481f247",
   "metadata": {},
   "source": [
    "# String / Recurrent\n",
    "![](./chat-bot.webp)"
   ]
  },
  {
   "cell_type": "code",
   "execution_count": null,
   "id": "754bb63f",
   "metadata": {},
   "outputs": [],
   "source": []
  }
 ],
 "metadata": {
  "kernelspec": {
   "display_name": "Python 3 (ipykernel)",
   "language": "python",
   "name": "python3"
  },
  "language_info": {
   "codemirror_mode": {
    "name": "ipython",
    "version": 3
   },
   "file_extension": ".py",
   "mimetype": "text/x-python",
   "name": "python",
   "nbconvert_exporter": "python",
   "pygments_lexer": "ipython3",
   "version": "3.10.8"
  }
 },
 "nbformat": 4,
 "nbformat_minor": 5
}
